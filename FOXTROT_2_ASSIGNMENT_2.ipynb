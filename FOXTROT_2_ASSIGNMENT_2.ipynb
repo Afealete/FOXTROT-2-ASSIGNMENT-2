{
  "nbformat": 4,
  "nbformat_minor": 0,
  "metadata": {
    "colab": {
      "provenance": [],
      "include_colab_link": true
    },
    "kernelspec": {
      "name": "python3",
      "display_name": "Python 3"
    },
    "language_info": {
      "name": "python"
    }
  },
  "cells": [
    {
      "cell_type": "markdown",
      "metadata": {
        "id": "view-in-github",
        "colab_type": "text"
      },
      "source": [
        "<a href=\"https://colab.research.google.com/github/Afealete/FOXTROT-2-ASSIGNMENT-2/blob/main/FOXTROT_2_ASSIGNMENT_2.ipynb\" target=\"_parent\"><img src=\"https://colab.research.google.com/assets/colab-badge.svg\" alt=\"Open In Colab\"/></a>"
      ]
    },
    {
      "cell_type": "markdown",
      "source": [
        "# Case Study – Banking & Loans in Ghana"
      ],
      "metadata": {
        "id": "FbLcenz9NvHz"
      }
    },
    {
      "cell_type": "markdown",
      "source": [
        "In today’s competitive and digitally driven financial environment, the ability to predict credit risk is a strategic advantage. GhanaLoanConnect, a digital lending platform connecting borrowers to investors, is actively seeking data-driven solutions to reduce its rate of non-performing loans (NPLs). Rising default rates not only impact profitability but also weaken lender trust and reduce platform credibility\n",
        "\n",
        "To address this challenge, this project proposes the development of a machine learning model that can predict the likelihood of a borrower defaulting on a loan. With accurate predictions, GhanaLoanConnect can proactively minimize risk, prioritize low-risk borrowers, and enhance portfolio performance."
      ],
      "metadata": {
        "id": "NXuKY4piN7F3"
      }
    },
    {
      "cell_type": "markdown",
      "source": [
        "## Import common libraries"
      ],
      "metadata": {
        "id": "W-ri_NtwOIeH"
      }
    },
    {
      "cell_type": "code",
      "source": [
        "# to handle the data\n",
        "import pandas as pd\n",
        "import numpy as np\n",
        "\n",
        "# to visualize the data\n",
        "import matplotlib.pyplot as plt\n",
        "import seaborn as sns\n",
        "\n",
        "# To preprocess the data\n",
        "from sklearn.preprocessing import StandardScaler, MinMaxScaler, LabelEncoder,OneHotEncoder\n",
        "\n",
        "# machine learning libraries\n",
        "from sklearn.model_selection import train_test_split, cross_val_score\n",
        "\n",
        "# for classification tasks\n",
        "from sklearn.linear_model import LogisticRegression\n",
        "from sklearn.ensemble import RandomForestClassifier,GradientBoostingClassifier\n",
        "from sklearn.tree import DecisionTreeClassifier\n",
        "from sklearn.neighbors import KNeighborsClassifier\n",
        "from sklearn.svm import SVC\n",
        "\n",
        "# metrics\n",
        "from sklearn.metrics import (accuracy_score, precision_score, recall_score,\n",
        "                             f1_score, roc_auc_score, confusion_matrix,\n",
        "                             classification_report)\n",
        "\n",
        "#ignore warnings\n",
        "import warnings\n",
        "warnings.filterwarnings('ignore')"
      ],
      "metadata": {
        "id": "vDNfYXc-OWeH"
      },
      "execution_count": 1,
      "outputs": []
    },
    {
      "cell_type": "markdown",
      "source": [
        "## Load dataset"
      ],
      "metadata": {
        "id": "LlJRCAoDOy6Q"
      }
    },
    {
      "cell_type": "code",
      "source": [
        "data = pd.read_csv('/content/loan_borowwer_data.csv')"
      ],
      "metadata": {
        "id": "szCCiK2UH970"
      },
      "execution_count": 2,
      "outputs": []
    }
  ]
}